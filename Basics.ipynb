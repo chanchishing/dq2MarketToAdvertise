{
 "cells": [
  {
   "cell_type": "markdown",
   "metadata": {},
   "source": [
    "## Analysis of eLearning Courses\n",
    "\n",
    "We're working for an an e-learning company that offers courses on programming. Most of the courses are on web and mobile development, but we also cover many other domains, like data science, game development, etc.\n",
    "\n",
    "We want to promote our product and we'd like to invest some money in advertisement. Our goal in this project is to find out the two best markets to advertise our product in."
   ]
  },
  {
   "cell_type": "markdown",
   "metadata": {},
   "source": [
    "### Try public Data Source free availabe on-line\n",
    "\n",
    "\n",
    "Surveys could be organized for a couple of different markets to find out which would the best choices for advertising. This is very costly, cheaper option is to explore of public data already collected by someone else first.\n",
    "\n",
    "One good candidate is the data from freeCodeCamp's 2017 New Coder Survey. freeCodeCamp is a free e-learning platform that offers courses on web development. Because they run a popular Medium publication (over 400,000 followers), their survey attracted new coders with varying interests (not only web development), which is ideal for the purpose of our analysis.\n",
    "\n",
    "The survey data is publicly available in this GitHub repository (https://github.com/freeCodeCamp/2017-new-coder-survey)."
   ]
  },
  {
   "cell_type": "code",
   "execution_count": 1,
   "metadata": {
    "collapsed": false
   },
   "outputs": [],
   "source": [
    "import pandas as pd\n",
    "import math\n",
    "import matplotlib.pyplot as plt\n",
    "import scipy.stats as stats\n",
    "\n",
    "%matplotlib inline"
   ]
  },
  {
   "cell_type": "code",
   "execution_count": 2,
   "metadata": {
    "collapsed": false
   },
   "outputs": [],
   "source": [
    "surveyData=pd.read_csv('2017-fCC-New-Coders-Survey-Data.csv',low_memory=False)\n"
   ]
  },
  {
   "cell_type": "code",
   "execution_count": 3,
   "metadata": {
    "collapsed": false
   },
   "outputs": [
    {
     "data": {
      "text/plain": [
       "(18175, 136)"
      ]
     },
     "execution_count": 3,
     "metadata": {},
     "output_type": "execute_result"
    }
   ],
   "source": [
    "surveyData.shape"
   ]
  },
  {
   "cell_type": "code",
   "execution_count": 4,
   "metadata": {
    "collapsed": false,
    "scrolled": true
   },
   "outputs": [
    {
     "data": {
      "text/html": [
       "<div>\n",
       "<style scoped>\n",
       "    .dataframe tbody tr th:only-of-type {\n",
       "        vertical-align: middle;\n",
       "    }\n",
       "\n",
       "    .dataframe tbody tr th {\n",
       "        vertical-align: top;\n",
       "    }\n",
       "\n",
       "    .dataframe thead th {\n",
       "        text-align: right;\n",
       "    }\n",
       "</style>\n",
       "<table border=\"1\" class=\"dataframe\">\n",
       "  <thead>\n",
       "    <tr style=\"text-align: right;\">\n",
       "      <th></th>\n",
       "      <th>Age</th>\n",
       "      <th>AttendedBootcamp</th>\n",
       "      <th>BootcampFinish</th>\n",
       "      <th>BootcampLoanYesNo</th>\n",
       "      <th>BootcampName</th>\n",
       "      <th>BootcampRecommend</th>\n",
       "      <th>ChildrenNumber</th>\n",
       "      <th>CityPopulation</th>\n",
       "      <th>CodeEventConferences</th>\n",
       "      <th>CodeEventDjangoGirls</th>\n",
       "      <th>...</th>\n",
       "      <th>YouTubeFCC</th>\n",
       "      <th>YouTubeFunFunFunction</th>\n",
       "      <th>YouTubeGoogleDev</th>\n",
       "      <th>YouTubeLearnCode</th>\n",
       "      <th>YouTubeLevelUpTuts</th>\n",
       "      <th>YouTubeMIT</th>\n",
       "      <th>YouTubeMozillaHacks</th>\n",
       "      <th>YouTubeOther</th>\n",
       "      <th>YouTubeSimplilearn</th>\n",
       "      <th>YouTubeTheNewBoston</th>\n",
       "    </tr>\n",
       "  </thead>\n",
       "  <tbody>\n",
       "    <tr>\n",
       "      <th>0</th>\n",
       "      <td>27.0</td>\n",
       "      <td>0.0</td>\n",
       "      <td>NaN</td>\n",
       "      <td>NaN</td>\n",
       "      <td>NaN</td>\n",
       "      <td>NaN</td>\n",
       "      <td>NaN</td>\n",
       "      <td>more than 1 million</td>\n",
       "      <td>NaN</td>\n",
       "      <td>NaN</td>\n",
       "      <td>...</td>\n",
       "      <td>NaN</td>\n",
       "      <td>NaN</td>\n",
       "      <td>NaN</td>\n",
       "      <td>NaN</td>\n",
       "      <td>NaN</td>\n",
       "      <td>NaN</td>\n",
       "      <td>NaN</td>\n",
       "      <td>NaN</td>\n",
       "      <td>NaN</td>\n",
       "      <td>NaN</td>\n",
       "    </tr>\n",
       "    <tr>\n",
       "      <th>1</th>\n",
       "      <td>34.0</td>\n",
       "      <td>0.0</td>\n",
       "      <td>NaN</td>\n",
       "      <td>NaN</td>\n",
       "      <td>NaN</td>\n",
       "      <td>NaN</td>\n",
       "      <td>NaN</td>\n",
       "      <td>less than 100,000</td>\n",
       "      <td>NaN</td>\n",
       "      <td>NaN</td>\n",
       "      <td>...</td>\n",
       "      <td>1.0</td>\n",
       "      <td>NaN</td>\n",
       "      <td>NaN</td>\n",
       "      <td>NaN</td>\n",
       "      <td>NaN</td>\n",
       "      <td>NaN</td>\n",
       "      <td>NaN</td>\n",
       "      <td>NaN</td>\n",
       "      <td>NaN</td>\n",
       "      <td>NaN</td>\n",
       "    </tr>\n",
       "    <tr>\n",
       "      <th>2</th>\n",
       "      <td>21.0</td>\n",
       "      <td>0.0</td>\n",
       "      <td>NaN</td>\n",
       "      <td>NaN</td>\n",
       "      <td>NaN</td>\n",
       "      <td>NaN</td>\n",
       "      <td>NaN</td>\n",
       "      <td>more than 1 million</td>\n",
       "      <td>NaN</td>\n",
       "      <td>NaN</td>\n",
       "      <td>...</td>\n",
       "      <td>NaN</td>\n",
       "      <td>NaN</td>\n",
       "      <td>NaN</td>\n",
       "      <td>1.0</td>\n",
       "      <td>1.0</td>\n",
       "      <td>NaN</td>\n",
       "      <td>NaN</td>\n",
       "      <td>NaN</td>\n",
       "      <td>NaN</td>\n",
       "      <td>NaN</td>\n",
       "    </tr>\n",
       "    <tr>\n",
       "      <th>3</th>\n",
       "      <td>26.0</td>\n",
       "      <td>0.0</td>\n",
       "      <td>NaN</td>\n",
       "      <td>NaN</td>\n",
       "      <td>NaN</td>\n",
       "      <td>NaN</td>\n",
       "      <td>NaN</td>\n",
       "      <td>between 100,000 and 1 million</td>\n",
       "      <td>NaN</td>\n",
       "      <td>NaN</td>\n",
       "      <td>...</td>\n",
       "      <td>1.0</td>\n",
       "      <td>1.0</td>\n",
       "      <td>NaN</td>\n",
       "      <td>NaN</td>\n",
       "      <td>1.0</td>\n",
       "      <td>NaN</td>\n",
       "      <td>NaN</td>\n",
       "      <td>NaN</td>\n",
       "      <td>NaN</td>\n",
       "      <td>NaN</td>\n",
       "    </tr>\n",
       "    <tr>\n",
       "      <th>4</th>\n",
       "      <td>20.0</td>\n",
       "      <td>0.0</td>\n",
       "      <td>NaN</td>\n",
       "      <td>NaN</td>\n",
       "      <td>NaN</td>\n",
       "      <td>NaN</td>\n",
       "      <td>NaN</td>\n",
       "      <td>between 100,000 and 1 million</td>\n",
       "      <td>NaN</td>\n",
       "      <td>NaN</td>\n",
       "      <td>...</td>\n",
       "      <td>NaN</td>\n",
       "      <td>NaN</td>\n",
       "      <td>NaN</td>\n",
       "      <td>NaN</td>\n",
       "      <td>NaN</td>\n",
       "      <td>NaN</td>\n",
       "      <td>NaN</td>\n",
       "      <td>NaN</td>\n",
       "      <td>NaN</td>\n",
       "      <td>NaN</td>\n",
       "    </tr>\n",
       "  </tbody>\n",
       "</table>\n",
       "<p>5 rows × 136 columns</p>\n",
       "</div>"
      ],
      "text/plain": [
       "    Age  AttendedBootcamp  BootcampFinish  BootcampLoanYesNo BootcampName  \\\n",
       "0  27.0               0.0             NaN                NaN          NaN   \n",
       "1  34.0               0.0             NaN                NaN          NaN   \n",
       "2  21.0               0.0             NaN                NaN          NaN   \n",
       "3  26.0               0.0             NaN                NaN          NaN   \n",
       "4  20.0               0.0             NaN                NaN          NaN   \n",
       "\n",
       "   BootcampRecommend  ChildrenNumber                 CityPopulation  \\\n",
       "0                NaN             NaN            more than 1 million   \n",
       "1                NaN             NaN              less than 100,000   \n",
       "2                NaN             NaN            more than 1 million   \n",
       "3                NaN             NaN  between 100,000 and 1 million   \n",
       "4                NaN             NaN  between 100,000 and 1 million   \n",
       "\n",
       "   CodeEventConferences  CodeEventDjangoGirls         ...           \\\n",
       "0                   NaN                   NaN         ...            \n",
       "1                   NaN                   NaN         ...            \n",
       "2                   NaN                   NaN         ...            \n",
       "3                   NaN                   NaN         ...            \n",
       "4                   NaN                   NaN         ...            \n",
       "\n",
       "   YouTubeFCC  YouTubeFunFunFunction  YouTubeGoogleDev  YouTubeLearnCode  \\\n",
       "0         NaN                    NaN               NaN               NaN   \n",
       "1         1.0                    NaN               NaN               NaN   \n",
       "2         NaN                    NaN               NaN               1.0   \n",
       "3         1.0                    1.0               NaN               NaN   \n",
       "4         NaN                    NaN               NaN               NaN   \n",
       "\n",
       "   YouTubeLevelUpTuts  YouTubeMIT  YouTubeMozillaHacks YouTubeOther  \\\n",
       "0                 NaN         NaN                  NaN          NaN   \n",
       "1                 NaN         NaN                  NaN          NaN   \n",
       "2                 1.0         NaN                  NaN          NaN   \n",
       "3                 1.0         NaN                  NaN          NaN   \n",
       "4                 NaN         NaN                  NaN          NaN   \n",
       "\n",
       "   YouTubeSimplilearn  YouTubeTheNewBoston  \n",
       "0                 NaN                  NaN  \n",
       "1                 NaN                  NaN  \n",
       "2                 NaN                  NaN  \n",
       "3                 NaN                  NaN  \n",
       "4                 NaN                  NaN  \n",
       "\n",
       "[5 rows x 136 columns]"
      ]
     },
     "execution_count": 4,
     "metadata": {},
     "output_type": "execute_result"
    }
   ],
   "source": [
    "surveyData.head()"
   ]
  },
  {
   "cell_type": "markdown",
   "metadata": {},
   "source": [
    "### Do the participants of the free dataset interests are same as our offered mobile courses ?\n",
    "\n",
    "Most of the courses we offer are on web and mobile development, but we also cover many other domains, like data science, game development, etc. For our analysis to be meaningful, we need to check if the survey is also target to our intended course students.\n",
    "\n",
    "First we check the distribution (by percentage) 'Job Role Intrest' column of the survey\n",
    "\n",
    "\n",
    "<br>"
   ]
  },
  {
   "cell_type": "code",
   "execution_count": 5,
   "metadata": {
    "collapsed": false
   },
   "outputs": [
    {
     "name": "stdout",
     "output_type": "stream",
     "text": [
      "Full-Stack Web Developer                                                       11.770595\n",
      "  Front-End Web Developer                                                       6.435927\n",
      "  Data Scientist                                                                2.173913\n",
      "Back-End Web Developer                                                          2.030892\n",
      "  Mobile Developer                                                              1.673341\n",
      "Game Developer                                                                  1.630435\n",
      "Information Security                                                            1.315789\n",
      "Full-Stack Web Developer,   Front-End Web Developer                             0.915332\n",
      "  Front-End Web Developer, Full-Stack Web Developer                             0.800915\n",
      "  Product Manager                                                               0.786613\n",
      "Data Engineer                                                                   0.758009\n",
      "  User Experience Designer                                                      0.743707\n",
      "  User Experience Designer,   Front-End Web Developer                           0.614989\n",
      "  Front-End Web Developer, Back-End Web Developer, Full-Stack Web Developer     0.557780\n",
      "Back-End Web Developer,   Front-End Web Developer, Full-Stack Web Developer     0.514874\n",
      "Back-End Web Developer, Full-Stack Web Developer,   Front-End Web Developer     0.514874\n",
      "  DevOps / SysAdmin                                                             0.514874\n",
      "Full-Stack Web Developer,   Front-End Web Developer, Back-End Web Developer     0.443364\n",
      "  Front-End Web Developer, Full-Stack Web Developer, Back-End Web Developer     0.429062\n",
      "Full-Stack Web Developer,   Mobile Developer                                    0.414760\n",
      "Name: JobRoleInterest, dtype: float64\n",
      "\n",
      "\n",
      "\n"
     ]
    }
   ],
   "source": [
    "jobRoleInterestDist=((surveyData['JobRoleInterest'].value_counts()/\n",
    "      surveyData['JobRoleInterest'].value_counts().sum())*100)\n",
    "\n",
    "jobRoleInterestDist=jobRoleInterestDist.sort_values(ascending=False)\n",
    "\n",
    "print(jobRoleInterestDist[:20])\n",
    "print('\\n\\n')"
   ]
  },
  {
   "cell_type": "markdown",
   "metadata": {},
   "source": [
    "### Simple counting on Job Role Interest Column cannot tell dataset match our study interest\n",
    "\n",
    "The top 3 job interests are Full-Stack/Front-End We Developer and Data Scientest,which account for about 20% of the Job Interest. \n",
    "\n",
    "However, it is noticed that the 'Job Role Intrest' can be composed of multiple interests. To get a clearer understanding, we need to split the respondent interests from the column and count the number of respondent interest in Web and/or Mobile Development.  \n",
    "\n",
    "<br>"
   ]
  },
  {
   "cell_type": "code",
   "execution_count": 6,
   "metadata": {
    "collapsed": false
   },
   "outputs": [
    {
     "data": {
      "text/plain": [
       "{'Interested': 6030, 'Not Interested': 962}"
      ]
     },
     "execution_count": 6,
     "metadata": {},
     "output_type": "execute_result"
    }
   ],
   "source": [
    "jobRoleInterestList=surveyData.dropna(subset=['JobRoleInterest']).copy()\n",
    "\n",
    "interestedInMobileorWeb={'Interested':0,\n",
    "                        'Not Interested':0}\n",
    "\n",
    "for rowInterest in jobRoleInterestList['JobRoleInterest']:\n",
    "    rowInterestList=rowInterest.split(',')\n",
    "    if any('Mobile Developer' in interestStr for interestStr in rowInterestList) or \\\n",
    "       any('Web Developer' in interestStr for interestStr in rowInterestList):\n",
    "       interestedInMobileorWeb['Interested']+=1\n",
    "    else:\n",
    "       interestedInMobileorWeb['Not Interested']+=1\n",
    "\n",
    "interestedInMobileorWeb"
   ]
  },
  {
   "cell_type": "code",
   "execution_count": 7,
   "metadata": {
    "collapsed": false
   },
   "outputs": [
    {
     "data": {
      "text/plain": [
       "<matplotlib.text.Text at 0x7f20ffbd57b8>"
      ]
     },
     "execution_count": 7,
     "metadata": {},
     "output_type": "execute_result"
    },
    {
     "data": {
      "image/png": "[encoded data removed]",
      "text/plain": [
       "<matplotlib.figure.Figure at 0x7f20ffc7a6d8>"
      ]
     },
     "metadata": {},
     "output_type": "display_data"
    }
   ],
   "source": [
    "plt.style.use('fivethirtyeight')\n",
    "pd.DataFrame.from_dict(interestedInMobileorWeb,orient='index').plot.pie(subplots=True,figsize=(5,5.3),autopct='%.1f%%',legend=None)\n",
    "plt.ylabel('')\n",
    "plt.title('Percentage of Survey Responder interested in \\nWeb and/or Mobile Development')\n",
    "\n"
   ]
  },
  {
   "cell_type": "markdown",
   "metadata": {
    "collapsed": true
   },
   "source": [
    "### The dataset matches our research target \n",
    "By split and count individual intrest in the Job Role Interest column, 6030 (86.2%) out of the 6992 repondents responded on Job Role Interest are interested in Web and/or Mobile Development.  So we can conclude the survey target are basically the same group of people that we are interested in prompting our courses.\n",
    "\n",
    "<br>"
   ]
  },
  {
   "cell_type": "markdown",
   "metadata": {},
   "source": [
    "### Country of Interest\n",
    "\n",
    "We would like to put our advertisment resource on country that has large potential customer.  So the number of respondent form each country are count and analysed as below."
   ]
  },
  {
   "cell_type": "code",
   "execution_count": 8,
   "metadata": {
    "collapsed": false
   },
   "outputs": [
    {
     "data": {
      "text/html": [
       "<div>\n",
       "<style scoped>\n",
       "    .dataframe tbody tr th:only-of-type {\n",
       "        vertical-align: middle;\n",
       "    }\n",
       "\n",
       "    .dataframe tbody tr th {\n",
       "        vertical-align: top;\n",
       "    }\n",
       "\n",
       "    .dataframe thead th {\n",
       "        text-align: right;\n",
       "    }\n",
       "</style>\n",
       "<table border=\"1\" class=\"dataframe\">\n",
       "  <thead>\n",
       "    <tr style=\"text-align: right;\">\n",
       "      <th></th>\n",
       "      <th>CountryLive</th>\n",
       "      <th>percentage</th>\n",
       "    </tr>\n",
       "  </thead>\n",
       "  <tbody>\n",
       "    <tr>\n",
       "      <th>United States of America</th>\n",
       "      <td>3125</td>\n",
       "      <td>45.700497</td>\n",
       "    </tr>\n",
       "    <tr>\n",
       "      <th>India</th>\n",
       "      <td>528</td>\n",
       "      <td>7.721556</td>\n",
       "    </tr>\n",
       "    <tr>\n",
       "      <th>United Kingdom</th>\n",
       "      <td>315</td>\n",
       "      <td>4.606610</td>\n",
       "    </tr>\n",
       "    <tr>\n",
       "      <th>Canada</th>\n",
       "      <td>260</td>\n",
       "      <td>3.802281</td>\n",
       "    </tr>\n",
       "    <tr>\n",
       "      <th>Poland</th>\n",
       "      <td>131</td>\n",
       "      <td>1.915765</td>\n",
       "    </tr>\n",
       "    <tr>\n",
       "      <th>Brazil</th>\n",
       "      <td>129</td>\n",
       "      <td>1.886517</td>\n",
       "    </tr>\n",
       "    <tr>\n",
       "      <th>Germany</th>\n",
       "      <td>125</td>\n",
       "      <td>1.828020</td>\n",
       "    </tr>\n",
       "    <tr>\n",
       "      <th>Australia</th>\n",
       "      <td>112</td>\n",
       "      <td>1.637906</td>\n",
       "    </tr>\n",
       "    <tr>\n",
       "      <th>Russia</th>\n",
       "      <td>102</td>\n",
       "      <td>1.491664</td>\n",
       "    </tr>\n",
       "    <tr>\n",
       "      <th>Ukraine</th>\n",
       "      <td>89</td>\n",
       "      <td>1.301550</td>\n",
       "    </tr>\n",
       "  </tbody>\n",
       "</table>\n",
       "</div>"
      ],
      "text/plain": [
       "                          CountryLive  percentage\n",
       "United States of America         3125   45.700497\n",
       "India                             528    7.721556\n",
       "United Kingdom                    315    4.606610\n",
       "Canada                            260    3.802281\n",
       "Poland                            131    1.915765\n",
       "Brazil                            129    1.886517\n",
       "Germany                           125    1.828020\n",
       "Australia                         112    1.637906\n",
       "Russia                            102    1.491664\n",
       "Ukraine                            89    1.301550"
      ]
     },
     "execution_count": 8,
     "metadata": {},
     "output_type": "execute_result"
    }
   ],
   "source": [
    "surveyDataWithJobInterest=jobRoleInterestList.copy()\n",
    "\n",
    "countryDist=pd.DataFrame(surveyDataWithJobInterest['CountryLive'].value_counts())\n",
    "countryDist['percentage']=(countryDist['CountryLive']/countryDist['CountryLive'].sum())*100\n",
    "\n",
    "countryDist.head(10)"
   ]
  },
  {
   "cell_type": "code",
   "execution_count": 9,
   "metadata": {
    "collapsed": false
   },
   "outputs": [
    {
     "data": {
      "text/plain": [
       "675"
      ]
     },
     "execution_count": 9,
     "metadata": {},
     "output_type": "execute_result"
    }
   ],
   "source": [
    "surveyDataWithJobInterest['MonthsProgramming'].replace(0,1,inplace=True)\n",
    "\n",
    "surveyDataWithJobInterest['MonthlySpent']=surveyDataWithJobInterest['MoneyForLearning']/surveyDataWithJobInterest['MonthsProgramming']\n",
    "surveyDataWithJobInterest['MonthlySpent'].isnull().sum()"
   ]
  },
  {
   "cell_type": "code",
   "execution_count": 10,
   "metadata": {
    "collapsed": false
   },
   "outputs": [
    {
     "data": {
      "text/plain": [
       "0"
      ]
     },
     "execution_count": 10,
     "metadata": {},
     "output_type": "execute_result"
    }
   ],
   "source": [
    "surveyDataWithJobInterest=surveyDataWithJobInterest.dropna(subset=['MonthlySpent']).copy()\n",
    "surveyDataWithJobInterest['MonthlySpent'].isnull().sum()"
   ]
  },
  {
   "cell_type": "code",
   "execution_count": 11,
   "metadata": {
    "collapsed": false
   },
   "outputs": [
    {
     "data": {
      "text/plain": [
       "0"
      ]
     },
     "execution_count": 11,
     "metadata": {},
     "output_type": "execute_result"
    }
   ],
   "source": [
    "surveyDataWithJobInterest=surveyDataWithJobInterest.dropna(subset=['CountryLive']).copy()\n",
    "surveyDataWithJobInterest['CountryLive'].isnull().sum()"
   ]
  },
  {
   "cell_type": "markdown",
   "metadata": {},
   "source": [
    "### Interested Countries Are ...\n",
    "\n",
    "From the above, the top 4 countries of the survey take up 60% of the suvey respondents.  And the remaing country only take up less than 2% of respondents.  So we decided to concetrate our analysis on the top 4 and they are put into a list for easier follow-up programming."
   ]
  },
  {
   "cell_type": "code",
   "execution_count": 12,
   "metadata": {
    "collapsed": false
   },
   "outputs": [
    {
     "data": {
      "text/plain": [
       "['United States of America', 'India', 'United Kingdom', 'Canada']"
      ]
     },
     "execution_count": 12,
     "metadata": {},
     "output_type": "execute_result"
    }
   ],
   "source": [
    "interestedCountry=countryDist.index[0:4].tolist()\n",
    "interestedCountry"
   ]
  },
  {
   "cell_type": "markdown",
   "metadata": {},
   "source": [
    "### Analysis of monthly spending of top 4 countries\n",
    "\n",
    "Our monthly course fee is $59, we would like to see the partioners in the top 4 countries are willing to pay for that price.\n",
    "\n",
    "So the mean monthly spending of the top 4 coumtires are calculated as below.  USA is the top, India come second then Canada all partioners in these 3 countries average spending is more than $59 but ... <i>we also need to consider<i/> ...\n",
    "\n",
    "<br>"
   ]
  },
  {
   "cell_type": "code",
   "execution_count": 13,
   "metadata": {
    "collapsed": false
   },
   "outputs": [
    {
     "data": {
      "text/plain": [
       "CountryLive\n",
       "United States of America    227.997996\n",
       "India                       135.100982\n",
       "Canada                      113.510961\n",
       "United Kingdom               45.534443\n",
       "Name: MonthlySpent, dtype: float64"
      ]
     },
     "execution_count": 13,
     "metadata": {},
     "output_type": "execute_result"
    }
   ],
   "source": [
    "surveyDataWithJobInterest[surveyDataWithJobInterest['CountryLive'].isin(interestedCountry)].groupby('CountryLive').mean()['MonthlySpent'].sort_values(ascending=False)"
   ]
  },
  {
   "cell_type": "markdown",
   "metadata": {
    "collapsed": true
   },
   "source": [
    "### Is there outliners ?\n",
    "The results for the United Kingdom and Canada are surprisingly low relative to the values we see for India. As we'd intuitively expect people from more affluent UK and Canada are willing to spend more on learning than less affluent people from India.\n",
    "\n",
    "It is worth to explore if there is ouliners in India distorted our 'common sense'.\n",
    "<br>"
   ]
  },
  {
   "cell_type": "code",
   "execution_count": 14,
   "metadata": {
    "collapsed": false
   },
   "outputs": [],
   "source": [
    "interestedCountryMonthlySpent=surveyDataWithJobInterest[surveyDataWithJobInterest['CountryLive'].isin(interestedCountry)]\n"
   ]
  },
  {
   "cell_type": "code",
   "execution_count": 15,
   "metadata": {
    "collapsed": false
   },
   "outputs": [
    {
     "data": {
      "text/html": [
       "<div>\n",
       "<style scoped>\n",
       "    .dataframe tbody tr th:only-of-type {\n",
       "        vertical-align: middle;\n",
       "    }\n",
       "\n",
       "    .dataframe tbody tr th {\n",
       "        vertical-align: top;\n",
       "    }\n",
       "\n",
       "    .dataframe thead th {\n",
       "        text-align: right;\n",
       "    }\n",
       "</style>\n",
       "<table border=\"1\" class=\"dataframe\">\n",
       "  <thead>\n",
       "    <tr style=\"text-align: right;\">\n",
       "      <th></th>\n",
       "      <th>United States of America</th>\n",
       "      <th>India</th>\n",
       "      <th>United Kingdom</th>\n",
       "      <th>Canada</th>\n",
       "    </tr>\n",
       "  </thead>\n",
       "  <tbody>\n",
       "    <tr>\n",
       "      <th>count</th>\n",
       "      <td>2933.000000</td>\n",
       "      <td>463.000000</td>\n",
       "      <td>279.000000</td>\n",
       "      <td>240.000000</td>\n",
       "    </tr>\n",
       "    <tr>\n",
       "      <th>mean</th>\n",
       "      <td>227.997996</td>\n",
       "      <td>135.100982</td>\n",
       "      <td>45.534443</td>\n",
       "      <td>113.510961</td>\n",
       "    </tr>\n",
       "    <tr>\n",
       "      <th>std</th>\n",
       "      <td>1940.245614</td>\n",
       "      <td>692.960378</td>\n",
       "      <td>162.311836</td>\n",
       "      <td>441.014158</td>\n",
       "    </tr>\n",
       "    <tr>\n",
       "      <th>min</th>\n",
       "      <td>0.000000</td>\n",
       "      <td>0.000000</td>\n",
       "      <td>0.000000</td>\n",
       "      <td>0.000000</td>\n",
       "    </tr>\n",
       "    <tr>\n",
       "      <th>25%</th>\n",
       "      <td>0.000000</td>\n",
       "      <td>0.000000</td>\n",
       "      <td>0.000000</td>\n",
       "      <td>0.000000</td>\n",
       "    </tr>\n",
       "    <tr>\n",
       "      <th>50%</th>\n",
       "      <td>3.333333</td>\n",
       "      <td>0.000000</td>\n",
       "      <td>0.000000</td>\n",
       "      <td>0.000000</td>\n",
       "    </tr>\n",
       "    <tr>\n",
       "      <th>75%</th>\n",
       "      <td>50.000000</td>\n",
       "      <td>13.250000</td>\n",
       "      <td>20.416667</td>\n",
       "      <td>25.000000</td>\n",
       "    </tr>\n",
       "    <tr>\n",
       "      <th>max</th>\n",
       "      <td>80000.000000</td>\n",
       "      <td>10000.000000</td>\n",
       "      <td>1400.000000</td>\n",
       "      <td>5000.000000</td>\n",
       "    </tr>\n",
       "  </tbody>\n",
       "</table>\n",
       "</div>"
      ],
      "text/plain": [
       "       United States of America         India  United Kingdom       Canada\n",
       "count               2933.000000    463.000000      279.000000   240.000000\n",
       "mean                 227.997996    135.100982       45.534443   113.510961\n",
       "std                 1940.245614    692.960378      162.311836   441.014158\n",
       "min                    0.000000      0.000000        0.000000     0.000000\n",
       "25%                    0.000000      0.000000        0.000000     0.000000\n",
       "50%                    3.333333      0.000000        0.000000     0.000000\n",
       "75%                   50.000000     13.250000       20.416667    25.000000\n",
       "max                80000.000000  10000.000000     1400.000000  5000.000000"
      ]
     },
     "execution_count": 15,
     "metadata": {},
     "output_type": "execute_result"
    }
   ],
   "source": [
    "interestedDist=pd.DataFrame()\n",
    "\n",
    "for country in interestedCountry:\n",
    "    interestedDist[country]=interestedCountryMonthlySpent[interestedCountryMonthlySpent['CountryLive']==country]['MonthlySpent'].describe()\n",
    "\n",
    "interestedDist    "
   ]
  },
  {
   "cell_type": "code",
   "execution_count": 16,
   "metadata": {
    "collapsed": false
   },
   "outputs": [
    {
     "data": {
      "image/png": "[encoded data removed]",
      "text/plain": [
       "<matplotlib.figure.Figure at 0x7f20ffb5b160>"
      ]
     },
     "metadata": {},
     "output_type": "display_data"
    }
   ],
   "source": [
    "plt.style.use('fivethirtyeight')\n",
    "fig = plt.figure(figsize=(15,5))\n",
    "axs=[fig.add_subplot(141),\n",
    "     fig.add_subplot(142),\n",
    "     fig.add_subplot(143),\n",
    "     fig.add_subplot(144)]    \n",
    "plt.subplots_adjust(hspace=10)\n",
    "plt.tight_layout()\n",
    "\n",
    "for country,ax in zip(interestedCountry,axs):\n",
    "    col=interestedCountryMonthlySpent[interestedCountryMonthlySpent['CountryLive']==country]['MonthlySpent']\n",
    "    ax.boxplot(x=col.tolist(),labels=[country])\n",
    "    \n",
    "plt.show()    "
   ]
  },
  {
   "cell_type": "markdown",
   "metadata": {},
   "source": [
    "### Outliners are common in the top 4 countries\n",
    "The summary statistics (DataFrame.describe()) and boxplot above clearly indicated the distribtion of intrested country are serioulsy left skewed by outliners in these country.\n",
    "\n",
    "This analysis does not attemp to explore explaination on the cause of outliners, but rather, to focus on IT partitioner's the monthly expending of courses to learn their desired skill.  So outliner above 3 standard deviation (6 sigma) of country respective distrbution are removed and the mean is recalcuated.   "
   ]
  },
  {
   "cell_type": "code",
   "execution_count": 17,
   "metadata": {
    "collapsed": false
   },
   "outputs": [
    {
     "data": {
      "text/plain": [
       "CountryLive\n",
       "United States of America    142.654608\n",
       "India                        65.758763\n",
       "Canada                       51.454066\n",
       "United Kingdom               25.245838\n",
       "Name: MonthlySpent, dtype: float64"
      ]
     },
     "execution_count": 17,
     "metadata": {},
     "output_type": "execute_result"
    }
   ],
   "source": [
    "sigma=3\n",
    "\n",
    "\n",
    "nonOutlineMask=[False for x in interestedCountryMonthlySpent.iterrows()]\n",
    "\n",
    "for country in interestedCountry:\n",
    "    std=interestedCountryMonthlySpent[interestedCountryMonthlySpent['CountryLive']==country]['MonthlySpent'].std()\n",
    "    outlineLimit=sigma*std\n",
    "    mask=((interestedCountryMonthlySpent['CountryLive']==country) &\n",
    "         (interestedCountryMonthlySpent['MonthlySpent']<outlineLimit))\n",
    "    nonOutlineMask=nonOutlineMask | mask\n",
    "    \n",
    "\n",
    "interestedCountryMonthlySpentNoOutline=interestedCountryMonthlySpent[nonOutlineMask==True]\n",
    "interestedCountryMonthlySpentNoOutline.groupby('CountryLive').mean()['MonthlySpent'].sort_values(ascending=False)"
   ]
  },
  {
   "cell_type": "code",
   "execution_count": 18,
   "metadata": {
    "collapsed": false
   },
   "outputs": [
    {
     "data": {
      "image/png": "[encoded data removed]",
      "text/plain": [
       "<matplotlib.figure.Figure at 0x7f20ff9bef60>"
      ]
     },
     "metadata": {},
     "output_type": "display_data"
    }
   ],
   "source": [
    "plt.style.use('fivethirtyeight')\n",
    "fig = plt.figure(figsize=(15,5))\n",
    "axs=[fig.add_subplot(141),\n",
    "     fig.add_subplot(142),\n",
    "     fig.add_subplot(143),\n",
    "     fig.add_subplot(144)]    \n",
    "plt.subplots_adjust(hspace=10)\n",
    "plt.tight_layout()\n",
    "\n",
    "for country,ax in zip(interestedCountry,axs):\n",
    "    col=interestedCountryMonthlySpentNoOutline[interestedCountryMonthlySpentNoOutline['CountryLive']==country]['MonthlySpent']\n",
    "    ax.boxplot(x=col.tolist(),labels=[country])\n",
    "    \n",
    "plt.show()    "
   ]
  },
  {
   "cell_type": "code",
   "execution_count": 19,
   "metadata": {
    "collapsed": false
   },
   "outputs": [
    {
     "data": {
      "text/html": [
       "<div>\n",
       "<style scoped>\n",
       "    .dataframe tbody tr th:only-of-type {\n",
       "        vertical-align: middle;\n",
       "    }\n",
       "\n",
       "    .dataframe tbody tr th {\n",
       "        vertical-align: top;\n",
       "    }\n",
       "\n",
       "    .dataframe thead th {\n",
       "        text-align: right;\n",
       "    }\n",
       "</style>\n",
       "<table border=\"1\" class=\"dataframe\">\n",
       "  <thead>\n",
       "    <tr style=\"text-align: right;\">\n",
       "      <th></th>\n",
       "      <th>United States of America</th>\n",
       "      <th>India</th>\n",
       "      <th>United Kingdom</th>\n",
       "      <th>Canada</th>\n",
       "    </tr>\n",
       "  </thead>\n",
       "  <tbody>\n",
       "    <tr>\n",
       "      <th>count</th>\n",
       "      <td>2920.000000</td>\n",
       "      <td>457.000000</td>\n",
       "      <td>274.000000</td>\n",
       "      <td>233.000000</td>\n",
       "    </tr>\n",
       "    <tr>\n",
       "      <th>mean</th>\n",
       "      <td>142.654608</td>\n",
       "      <td>65.758763</td>\n",
       "      <td>25.245838</td>\n",
       "      <td>51.454066</td>\n",
       "    </tr>\n",
       "    <tr>\n",
       "      <th>std</th>\n",
       "      <td>502.692169</td>\n",
       "      <td>233.452738</td>\n",
       "      <td>57.025994</td>\n",
       "      <td>155.765693</td>\n",
       "    </tr>\n",
       "    <tr>\n",
       "      <th>min</th>\n",
       "      <td>0.000000</td>\n",
       "      <td>0.000000</td>\n",
       "      <td>0.000000</td>\n",
       "      <td>0.000000</td>\n",
       "    </tr>\n",
       "    <tr>\n",
       "      <th>25%</th>\n",
       "      <td>0.000000</td>\n",
       "      <td>0.000000</td>\n",
       "      <td>0.000000</td>\n",
       "      <td>0.000000</td>\n",
       "    </tr>\n",
       "    <tr>\n",
       "      <th>50%</th>\n",
       "      <td>3.333333</td>\n",
       "      <td>0.000000</td>\n",
       "      <td>0.000000</td>\n",
       "      <td>0.000000</td>\n",
       "    </tr>\n",
       "    <tr>\n",
       "      <th>75%</th>\n",
       "      <td>50.000000</td>\n",
       "      <td>12.500000</td>\n",
       "      <td>20.000000</td>\n",
       "      <td>20.000000</td>\n",
       "    </tr>\n",
       "    <tr>\n",
       "      <th>max</th>\n",
       "      <td>5666.666667</td>\n",
       "      <td>2000.000000</td>\n",
       "      <td>357.142857</td>\n",
       "      <td>1100.000000</td>\n",
       "    </tr>\n",
       "  </tbody>\n",
       "</table>\n",
       "</div>"
      ],
      "text/plain": [
       "       United States of America        India  United Kingdom       Canada\n",
       "count               2920.000000   457.000000      274.000000   233.000000\n",
       "mean                 142.654608    65.758763       25.245838    51.454066\n",
       "std                  502.692169   233.452738       57.025994   155.765693\n",
       "min                    0.000000     0.000000        0.000000     0.000000\n",
       "25%                    0.000000     0.000000        0.000000     0.000000\n",
       "50%                    3.333333     0.000000        0.000000     0.000000\n",
       "75%                   50.000000    12.500000       20.000000    20.000000\n",
       "max                 5666.666667  2000.000000      357.142857  1100.000000"
      ]
     },
     "execution_count": 19,
     "metadata": {},
     "output_type": "execute_result"
    }
   ],
   "source": [
    "interestedDistNoOutline=pd.DataFrame()\n",
    "\n",
    "for country in interestedCountry:\n",
    "    interestedDistNoOutline[country]=interestedCountryMonthlySpentNoOutline[interestedCountryMonthlySpentNoOutline['CountryLive']==country]['MonthlySpent'].describe()\n",
    "    \n",
    "interestedDistNoOutline\n",
    "    "
   ]
  },
  {
   "cell_type": "markdown",
   "metadata": {},
   "source": [
    "### Result after outliner removal\n",
    "\n",
    "The summary statistics and boxplot after outliner removal are less skewed (smaller standard deviation and smaller maximum).  It also shows that only USA and India partitioner spending means (\\$142 and \\$65 respectively) are above our couse monthly charge of $59."
   ]
  },
  {
   "cell_type": "markdown",
   "metadata": {},
   "source": [
    "### Conculsion\n",
    "\n",
    "From the result after outlner removal, we can safely concluded USA is the market worth for investing advertering program as she has the largest deveoloper population has inerested in our course subject and the developer mean expenditure on learning (\\$142) there are well above our course cost of \\$59.  "
   ]
  },
  {
   "cell_type": "markdown",
   "metadata": {
    "collapsed": true
   },
   "source": [
    "### Further on the conclusion ...\n",
    "\n",
    "On further analysis of percentlie value of our course fee (\\$59) in each of the top countries as below, 22% of developers in USA are spending \\$59 or more on learning. 22% is a huge market given the large number of developers in USA. \n",
    "\n",
    "\n",
    "It is also worth to note 15% of developrs in India are also willing to spend \\$59 or more, and the mean spending of India is $65, which is also above our course fee.\n",
    "\n",
    "Given India is the largest IT outsource servicing country in the World, India may have a large developer popupulation.  India may be a potentail market that worth for further exploration.  So it is also suggest to conduct further marketing research on India to collect more data for further analysis."
   ]
  },
  {
   "cell_type": "code",
   "execution_count": 21,
   "metadata": {
    "collapsed": false
   },
   "outputs": [
    {
     "data": {
      "text/html": [
       "<div>\n",
       "<style scoped>\n",
       "    .dataframe tbody tr th:only-of-type {\n",
       "        vertical-align: middle;\n",
       "    }\n",
       "\n",
       "    .dataframe tbody tr th {\n",
       "        vertical-align: top;\n",
       "    }\n",
       "\n",
       "    .dataframe thead th {\n",
       "        text-align: right;\n",
       "    }\n",
       "</style>\n",
       "<table border=\"1\" class=\"dataframe\">\n",
       "  <thead>\n",
       "    <tr style=\"text-align: right;\">\n",
       "      <th></th>\n",
       "      <th>country</th>\n",
       "      <th>100-percentile</th>\n",
       "    </tr>\n",
       "  </thead>\n",
       "  <tbody>\n",
       "    <tr>\n",
       "      <th>0</th>\n",
       "      <td>United States of America</td>\n",
       "      <td>22.294521</td>\n",
       "    </tr>\n",
       "    <tr>\n",
       "      <th>1</th>\n",
       "      <td>India</td>\n",
       "      <td>15.098468</td>\n",
       "    </tr>\n",
       "    <tr>\n",
       "      <th>2</th>\n",
       "      <td>United Kingdom</td>\n",
       "      <td>13.868613</td>\n",
       "    </tr>\n",
       "    <tr>\n",
       "      <th>3</th>\n",
       "      <td>Canada</td>\n",
       "      <td>14.163090</td>\n",
       "    </tr>\n",
       "  </tbody>\n",
       "</table>\n",
       "</div>"
      ],
      "text/plain": [
       "                    country  100-percentile\n",
       "0  United States of America       22.294521\n",
       "1                     India       15.098468\n",
       "2            United Kingdom       13.868613\n",
       "3                    Canada       14.163090"
      ]
     },
     "execution_count": 21,
     "metadata": {},
     "output_type": "execute_result"
    }
   ],
   "source": [
    "coursePrice=59\n",
    "\n",
    "percentileTable=[]\n",
    "\n",
    "for country in interestedCountry:\n",
    "    percentile=stats.percentileofscore(interestedCountryMonthlySpentNoOutline[interestedCountryMonthlySpentNoOutline['CountryLive']==country]['MonthlySpent'],coursePrice)\n",
    "    percentileTable.append([country,100-percentile])\n",
    "    #print(country,100-percentile)\n",
    "\n",
    "    \n",
    "pd.DataFrame(percentileTable,columns=['country','100-percentile'])    "
   ]
  },
  {
   "cell_type": "code",
   "execution_count": null,
   "metadata": {
    "collapsed": true
   },
   "outputs": [],
   "source": []
  }
 ],
 "metadata": {
  "kernelspec": {
   "display_name": "Python 3",
   "language": "python",
   "name": "python3"
  },
  "language_info": {
   "codemirror_mode": {
    "name": "ipython",
    "version": 3
   },
   "file_extension": ".py",
   "mimetype": "text/x-python",
   "name": "python",
   "nbconvert_exporter": "python",
   "pygments_lexer": "ipython3",
   "version": "3.4.3"
  }
 },
 "nbformat": 4,
 "nbformat_minor": 2
}
